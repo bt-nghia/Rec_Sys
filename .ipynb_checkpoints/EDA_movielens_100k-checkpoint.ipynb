{
 "cells": [
  {
   "cell_type": "code",
   "execution_count": 1,
   "id": "0c86558b",
   "metadata": {},
   "outputs": [],
   "source": [
    "import pandas as pd\n",
    "import numpy as np\n",
    "import seaborn as sns\n",
    "import matplotlib.pyplot as plt\n",
    "import os"
   ]
  },
  {
   "cell_type": "markdown",
   "id": "49d954bf",
   "metadata": {},
   "source": [
    "### Rating_cols, movei_cols, user_cols lần lượt là các trường của table rating, movie và user"
   ]
  },
  {
   "cell_type": "code",
   "execution_count": 2,
   "id": "070b3a11",
   "metadata": {},
   "outputs": [],
   "source": [
    "base_url = '../ml-100k'\n",
    "rating_path = os.path.join(base_url, 'u.data')\n",
    "movie_path = os.path.join(base_url, 'u.item')\n",
    "user_path = os.path.join(base_url, 'u.user')\n",
    "\n",
    "rating_cols = ['user_id', 'movie_id', 'rating', 'timestamp']\n",
    "movie_cols = ['movie_id', 'movie_title', 'release_date', \n",
    "              'video_release_date', 'imdb_url', \n",
    "              'unknown', 'action', 'adventure', \n",
    "              'animation', 'childrens', 'comedy', \n",
    "              'crime', 'documentary', 'drama', \n",
    "              'fantasy', 'film_noir', 'horror', \n",
    "              'musical', 'mystery', 'romance', \n",
    "              'sci_fi', 'thriller', 'war', 'western']\n",
    "user_cols = ['user_id', 'age', 'gender', 'occupation', 'zip_code']"
   ]
  },
  {
   "cell_type": "markdown",
   "id": "d2625324",
   "metadata": {},
   "source": [
    "## Rating Dataframe, Movie Dataframe, User Dataframe"
   ]
  },
  {
   "cell_type": "code",
   "execution_count": 3,
   "id": "691bfd6e",
   "metadata": {},
   "outputs": [],
   "source": [
    "rating_df = pd.read_csv(rating_path, sep='\\t',\n",
    "                        names=rating_cols,parse_dates=['timestamp'])\n",
    "movie_df = pd.read_csv(movie_path, sep='|', \n",
    "                       encoding='latin-1',names=movie_cols)\n",
    "user_df = pd.read_csv(user_path, sep='|', encoding='latin-1', \n",
    "                     names=user_cols)"
   ]
  },
  {
   "cell_type": "markdown",
   "id": "c671d881",
   "metadata": {},
   "source": [
    "# MOVIE\n",
    "### 10 bộ phim đầu tiên và các thông tin của 10 bộ phim này id, title, release date, video release date, imdb, thể loại (genre)"
   ]
  },
  {
   "cell_type": "code",
   "execution_count": 4,
   "id": "6fb215cb",
   "metadata": {
    "scrolled": true
   },
   "outputs": [
    {
     "data": {
      "text/html": [
       "<div>\n",
       "<style scoped>\n",
       "    .dataframe tbody tr th:only-of-type {\n",
       "        vertical-align: middle;\n",
       "    }\n",
       "\n",
       "    .dataframe tbody tr th {\n",
       "        vertical-align: top;\n",
       "    }\n",
       "\n",
       "    .dataframe thead th {\n",
       "        text-align: right;\n",
       "    }\n",
       "</style>\n",
       "<table border=\"1\" class=\"dataframe\">\n",
       "  <thead>\n",
       "    <tr style=\"text-align: right;\">\n",
       "      <th></th>\n",
       "      <th>movie_id</th>\n",
       "      <th>movie_title</th>\n",
       "      <th>release_date</th>\n",
       "      <th>video_release_date</th>\n",
       "      <th>imdb_url</th>\n",
       "      <th>unknown</th>\n",
       "      <th>action</th>\n",
       "      <th>adventure</th>\n",
       "      <th>animation</th>\n",
       "      <th>childrens</th>\n",
       "      <th>...</th>\n",
       "      <th>fantasy</th>\n",
       "      <th>film_noir</th>\n",
       "      <th>horror</th>\n",
       "      <th>musical</th>\n",
       "      <th>mystery</th>\n",
       "      <th>romance</th>\n",
       "      <th>sci_fi</th>\n",
       "      <th>thriller</th>\n",
       "      <th>war</th>\n",
       "      <th>western</th>\n",
       "    </tr>\n",
       "  </thead>\n",
       "  <tbody>\n",
       "    <tr>\n",
       "      <th>0</th>\n",
       "      <td>1</td>\n",
       "      <td>Toy Story (1995)</td>\n",
       "      <td>01-Jan-1995</td>\n",
       "      <td>NaN</td>\n",
       "      <td>http://us.imdb.com/M/title-exact?Toy%20Story%2...</td>\n",
       "      <td>0</td>\n",
       "      <td>0</td>\n",
       "      <td>0</td>\n",
       "      <td>1</td>\n",
       "      <td>1</td>\n",
       "      <td>...</td>\n",
       "      <td>0</td>\n",
       "      <td>0</td>\n",
       "      <td>0</td>\n",
       "      <td>0</td>\n",
       "      <td>0</td>\n",
       "      <td>0</td>\n",
       "      <td>0</td>\n",
       "      <td>0</td>\n",
       "      <td>0</td>\n",
       "      <td>0</td>\n",
       "    </tr>\n",
       "    <tr>\n",
       "      <th>1</th>\n",
       "      <td>2</td>\n",
       "      <td>GoldenEye (1995)</td>\n",
       "      <td>01-Jan-1995</td>\n",
       "      <td>NaN</td>\n",
       "      <td>http://us.imdb.com/M/title-exact?GoldenEye%20(...</td>\n",
       "      <td>0</td>\n",
       "      <td>1</td>\n",
       "      <td>1</td>\n",
       "      <td>0</td>\n",
       "      <td>0</td>\n",
       "      <td>...</td>\n",
       "      <td>0</td>\n",
       "      <td>0</td>\n",
       "      <td>0</td>\n",
       "      <td>0</td>\n",
       "      <td>0</td>\n",
       "      <td>0</td>\n",
       "      <td>0</td>\n",
       "      <td>1</td>\n",
       "      <td>0</td>\n",
       "      <td>0</td>\n",
       "    </tr>\n",
       "    <tr>\n",
       "      <th>2</th>\n",
       "      <td>3</td>\n",
       "      <td>Four Rooms (1995)</td>\n",
       "      <td>01-Jan-1995</td>\n",
       "      <td>NaN</td>\n",
       "      <td>http://us.imdb.com/M/title-exact?Four%20Rooms%...</td>\n",
       "      <td>0</td>\n",
       "      <td>0</td>\n",
       "      <td>0</td>\n",
       "      <td>0</td>\n",
       "      <td>0</td>\n",
       "      <td>...</td>\n",
       "      <td>0</td>\n",
       "      <td>0</td>\n",
       "      <td>0</td>\n",
       "      <td>0</td>\n",
       "      <td>0</td>\n",
       "      <td>0</td>\n",
       "      <td>0</td>\n",
       "      <td>1</td>\n",
       "      <td>0</td>\n",
       "      <td>0</td>\n",
       "    </tr>\n",
       "    <tr>\n",
       "      <th>3</th>\n",
       "      <td>4</td>\n",
       "      <td>Get Shorty (1995)</td>\n",
       "      <td>01-Jan-1995</td>\n",
       "      <td>NaN</td>\n",
       "      <td>http://us.imdb.com/M/title-exact?Get%20Shorty%...</td>\n",
       "      <td>0</td>\n",
       "      <td>1</td>\n",
       "      <td>0</td>\n",
       "      <td>0</td>\n",
       "      <td>0</td>\n",
       "      <td>...</td>\n",
       "      <td>0</td>\n",
       "      <td>0</td>\n",
       "      <td>0</td>\n",
       "      <td>0</td>\n",
       "      <td>0</td>\n",
       "      <td>0</td>\n",
       "      <td>0</td>\n",
       "      <td>0</td>\n",
       "      <td>0</td>\n",
       "      <td>0</td>\n",
       "    </tr>\n",
       "    <tr>\n",
       "      <th>4</th>\n",
       "      <td>5</td>\n",
       "      <td>Copycat (1995)</td>\n",
       "      <td>01-Jan-1995</td>\n",
       "      <td>NaN</td>\n",
       "      <td>http://us.imdb.com/M/title-exact?Copycat%20(1995)</td>\n",
       "      <td>0</td>\n",
       "      <td>0</td>\n",
       "      <td>0</td>\n",
       "      <td>0</td>\n",
       "      <td>0</td>\n",
       "      <td>...</td>\n",
       "      <td>0</td>\n",
       "      <td>0</td>\n",
       "      <td>0</td>\n",
       "      <td>0</td>\n",
       "      <td>0</td>\n",
       "      <td>0</td>\n",
       "      <td>0</td>\n",
       "      <td>1</td>\n",
       "      <td>0</td>\n",
       "      <td>0</td>\n",
       "    </tr>\n",
       "    <tr>\n",
       "      <th>5</th>\n",
       "      <td>6</td>\n",
       "      <td>Shanghai Triad (Yao a yao yao dao waipo qiao) ...</td>\n",
       "      <td>01-Jan-1995</td>\n",
       "      <td>NaN</td>\n",
       "      <td>http://us.imdb.com/Title?Yao+a+yao+yao+dao+wai...</td>\n",
       "      <td>0</td>\n",
       "      <td>0</td>\n",
       "      <td>0</td>\n",
       "      <td>0</td>\n",
       "      <td>0</td>\n",
       "      <td>...</td>\n",
       "      <td>0</td>\n",
       "      <td>0</td>\n",
       "      <td>0</td>\n",
       "      <td>0</td>\n",
       "      <td>0</td>\n",
       "      <td>0</td>\n",
       "      <td>0</td>\n",
       "      <td>0</td>\n",
       "      <td>0</td>\n",
       "      <td>0</td>\n",
       "    </tr>\n",
       "    <tr>\n",
       "      <th>6</th>\n",
       "      <td>7</td>\n",
       "      <td>Twelve Monkeys (1995)</td>\n",
       "      <td>01-Jan-1995</td>\n",
       "      <td>NaN</td>\n",
       "      <td>http://us.imdb.com/M/title-exact?Twelve%20Monk...</td>\n",
       "      <td>0</td>\n",
       "      <td>0</td>\n",
       "      <td>0</td>\n",
       "      <td>0</td>\n",
       "      <td>0</td>\n",
       "      <td>...</td>\n",
       "      <td>0</td>\n",
       "      <td>0</td>\n",
       "      <td>0</td>\n",
       "      <td>0</td>\n",
       "      <td>0</td>\n",
       "      <td>0</td>\n",
       "      <td>1</td>\n",
       "      <td>0</td>\n",
       "      <td>0</td>\n",
       "      <td>0</td>\n",
       "    </tr>\n",
       "    <tr>\n",
       "      <th>7</th>\n",
       "      <td>8</td>\n",
       "      <td>Babe (1995)</td>\n",
       "      <td>01-Jan-1995</td>\n",
       "      <td>NaN</td>\n",
       "      <td>http://us.imdb.com/M/title-exact?Babe%20(1995)</td>\n",
       "      <td>0</td>\n",
       "      <td>0</td>\n",
       "      <td>0</td>\n",
       "      <td>0</td>\n",
       "      <td>1</td>\n",
       "      <td>...</td>\n",
       "      <td>0</td>\n",
       "      <td>0</td>\n",
       "      <td>0</td>\n",
       "      <td>0</td>\n",
       "      <td>0</td>\n",
       "      <td>0</td>\n",
       "      <td>0</td>\n",
       "      <td>0</td>\n",
       "      <td>0</td>\n",
       "      <td>0</td>\n",
       "    </tr>\n",
       "    <tr>\n",
       "      <th>8</th>\n",
       "      <td>9</td>\n",
       "      <td>Dead Man Walking (1995)</td>\n",
       "      <td>01-Jan-1995</td>\n",
       "      <td>NaN</td>\n",
       "      <td>http://us.imdb.com/M/title-exact?Dead%20Man%20...</td>\n",
       "      <td>0</td>\n",
       "      <td>0</td>\n",
       "      <td>0</td>\n",
       "      <td>0</td>\n",
       "      <td>0</td>\n",
       "      <td>...</td>\n",
       "      <td>0</td>\n",
       "      <td>0</td>\n",
       "      <td>0</td>\n",
       "      <td>0</td>\n",
       "      <td>0</td>\n",
       "      <td>0</td>\n",
       "      <td>0</td>\n",
       "      <td>0</td>\n",
       "      <td>0</td>\n",
       "      <td>0</td>\n",
       "    </tr>\n",
       "    <tr>\n",
       "      <th>9</th>\n",
       "      <td>10</td>\n",
       "      <td>Richard III (1995)</td>\n",
       "      <td>22-Jan-1996</td>\n",
       "      <td>NaN</td>\n",
       "      <td>http://us.imdb.com/M/title-exact?Richard%20III...</td>\n",
       "      <td>0</td>\n",
       "      <td>0</td>\n",
       "      <td>0</td>\n",
       "      <td>0</td>\n",
       "      <td>0</td>\n",
       "      <td>...</td>\n",
       "      <td>0</td>\n",
       "      <td>0</td>\n",
       "      <td>0</td>\n",
       "      <td>0</td>\n",
       "      <td>0</td>\n",
       "      <td>0</td>\n",
       "      <td>0</td>\n",
       "      <td>0</td>\n",
       "      <td>1</td>\n",
       "      <td>0</td>\n",
       "    </tr>\n",
       "  </tbody>\n",
       "</table>\n",
       "<p>10 rows × 24 columns</p>\n",
       "</div>"
      ],
      "text/plain": [
       "   movie_id                                        movie_title release_date  \\\n",
       "0         1                                   Toy Story (1995)  01-Jan-1995   \n",
       "1         2                                   GoldenEye (1995)  01-Jan-1995   \n",
       "2         3                                  Four Rooms (1995)  01-Jan-1995   \n",
       "3         4                                  Get Shorty (1995)  01-Jan-1995   \n",
       "4         5                                     Copycat (1995)  01-Jan-1995   \n",
       "5         6  Shanghai Triad (Yao a yao yao dao waipo qiao) ...  01-Jan-1995   \n",
       "6         7                              Twelve Monkeys (1995)  01-Jan-1995   \n",
       "7         8                                        Babe (1995)  01-Jan-1995   \n",
       "8         9                            Dead Man Walking (1995)  01-Jan-1995   \n",
       "9        10                                 Richard III (1995)  22-Jan-1996   \n",
       "\n",
       "   video_release_date                                           imdb_url  \\\n",
       "0                 NaN  http://us.imdb.com/M/title-exact?Toy%20Story%2...   \n",
       "1                 NaN  http://us.imdb.com/M/title-exact?GoldenEye%20(...   \n",
       "2                 NaN  http://us.imdb.com/M/title-exact?Four%20Rooms%...   \n",
       "3                 NaN  http://us.imdb.com/M/title-exact?Get%20Shorty%...   \n",
       "4                 NaN  http://us.imdb.com/M/title-exact?Copycat%20(1995)   \n",
       "5                 NaN  http://us.imdb.com/Title?Yao+a+yao+yao+dao+wai...   \n",
       "6                 NaN  http://us.imdb.com/M/title-exact?Twelve%20Monk...   \n",
       "7                 NaN     http://us.imdb.com/M/title-exact?Babe%20(1995)   \n",
       "8                 NaN  http://us.imdb.com/M/title-exact?Dead%20Man%20...   \n",
       "9                 NaN  http://us.imdb.com/M/title-exact?Richard%20III...   \n",
       "\n",
       "   unknown  action  adventure  animation  childrens  ...  fantasy  film_noir  \\\n",
       "0        0       0          0          1          1  ...        0          0   \n",
       "1        0       1          1          0          0  ...        0          0   \n",
       "2        0       0          0          0          0  ...        0          0   \n",
       "3        0       1          0          0          0  ...        0          0   \n",
       "4        0       0          0          0          0  ...        0          0   \n",
       "5        0       0          0          0          0  ...        0          0   \n",
       "6        0       0          0          0          0  ...        0          0   \n",
       "7        0       0          0          0          1  ...        0          0   \n",
       "8        0       0          0          0          0  ...        0          0   \n",
       "9        0       0          0          0          0  ...        0          0   \n",
       "\n",
       "   horror  musical  mystery  romance  sci_fi  thriller  war  western  \n",
       "0       0        0        0        0       0         0    0        0  \n",
       "1       0        0        0        0       0         1    0        0  \n",
       "2       0        0        0        0       0         1    0        0  \n",
       "3       0        0        0        0       0         0    0        0  \n",
       "4       0        0        0        0       0         1    0        0  \n",
       "5       0        0        0        0       0         0    0        0  \n",
       "6       0        0        0        0       1         0    0        0  \n",
       "7       0        0        0        0       0         0    0        0  \n",
       "8       0        0        0        0       0         0    0        0  \n",
       "9       0        0        0        0       0         0    1        0  \n",
       "\n",
       "[10 rows x 24 columns]"
      ]
     },
     "execution_count": 4,
     "metadata": {},
     "output_type": "execute_result"
    }
   ],
   "source": [
    "movie_df.head(10)"
   ]
  },
  {
   "cell_type": "markdown",
   "id": "5020c2f7",
   "metadata": {},
   "source": [
    "thống kê kiểu dữ liệu của từng cột, kiểu dữ liệu của từng trường trong bảng"
   ]
  },
  {
   "cell_type": "code",
   "execution_count": 5,
   "id": "d8551d22",
   "metadata": {},
   "outputs": [
    {
     "name": "stdout",
     "output_type": "stream",
     "text": [
      "<class 'pandas.core.frame.DataFrame'>\n",
      "RangeIndex: 1682 entries, 0 to 1681\n",
      "Data columns (total 24 columns):\n",
      " #   Column              Non-Null Count  Dtype  \n",
      "---  ------              --------------  -----  \n",
      " 0   movie_id            1682 non-null   int64  \n",
      " 1   movie_title         1682 non-null   object \n",
      " 2   release_date        1681 non-null   object \n",
      " 3   video_release_date  0 non-null      float64\n",
      " 4   imdb_url            1679 non-null   object \n",
      " 5   unknown             1682 non-null   int64  \n",
      " 6   action              1682 non-null   int64  \n",
      " 7   adventure           1682 non-null   int64  \n",
      " 8   animation           1682 non-null   int64  \n",
      " 9   childrens           1682 non-null   int64  \n",
      " 10  comedy              1682 non-null   int64  \n",
      " 11  crime               1682 non-null   int64  \n",
      " 12  documentary         1682 non-null   int64  \n",
      " 13  drama               1682 non-null   int64  \n",
      " 14  fantasy             1682 non-null   int64  \n",
      " 15  film_noir           1682 non-null   int64  \n",
      " 16  horror              1682 non-null   int64  \n",
      " 17  musical             1682 non-null   int64  \n",
      " 18  mystery             1682 non-null   int64  \n",
      " 19  romance             1682 non-null   int64  \n",
      " 20  sci_fi              1682 non-null   int64  \n",
      " 21  thriller            1682 non-null   int64  \n",
      " 22  war                 1682 non-null   int64  \n",
      " 23  western             1682 non-null   int64  \n",
      "dtypes: float64(1), int64(20), object(3)\n",
      "memory usage: 315.5+ KB\n"
     ]
    }
   ],
   "source": [
    "movie_df.info()"
   ]
  },
  {
   "cell_type": "markdown",
   "id": "139b533c",
   "metadata": {},
   "source": [
    "## Thống kê các giá trị trong bảng"
   ]
  },
  {
   "cell_type": "code",
   "execution_count": 6,
   "id": "11c68b45",
   "metadata": {
    "scrolled": true
   },
   "outputs": [
    {
     "data": {
      "text/html": [
       "<div>\n",
       "<style scoped>\n",
       "    .dataframe tbody tr th:only-of-type {\n",
       "        vertical-align: middle;\n",
       "    }\n",
       "\n",
       "    .dataframe tbody tr th {\n",
       "        vertical-align: top;\n",
       "    }\n",
       "\n",
       "    .dataframe thead th {\n",
       "        text-align: right;\n",
       "    }\n",
       "</style>\n",
       "<table border=\"1\" class=\"dataframe\">\n",
       "  <thead>\n",
       "    <tr style=\"text-align: right;\">\n",
       "      <th></th>\n",
       "      <th>movie_id</th>\n",
       "      <th>video_release_date</th>\n",
       "      <th>unknown</th>\n",
       "      <th>action</th>\n",
       "      <th>adventure</th>\n",
       "      <th>animation</th>\n",
       "      <th>childrens</th>\n",
       "      <th>comedy</th>\n",
       "      <th>crime</th>\n",
       "      <th>documentary</th>\n",
       "      <th>...</th>\n",
       "      <th>fantasy</th>\n",
       "      <th>film_noir</th>\n",
       "      <th>horror</th>\n",
       "      <th>musical</th>\n",
       "      <th>mystery</th>\n",
       "      <th>romance</th>\n",
       "      <th>sci_fi</th>\n",
       "      <th>thriller</th>\n",
       "      <th>war</th>\n",
       "      <th>western</th>\n",
       "    </tr>\n",
       "  </thead>\n",
       "  <tbody>\n",
       "    <tr>\n",
       "      <th>count</th>\n",
       "      <td>1682.000000</td>\n",
       "      <td>0.0</td>\n",
       "      <td>1682.000000</td>\n",
       "      <td>1682.000000</td>\n",
       "      <td>1682.000000</td>\n",
       "      <td>1682.000000</td>\n",
       "      <td>1682.000000</td>\n",
       "      <td>1682.000000</td>\n",
       "      <td>1682.000000</td>\n",
       "      <td>1682.000000</td>\n",
       "      <td>...</td>\n",
       "      <td>1682.00000</td>\n",
       "      <td>1682.000000</td>\n",
       "      <td>1682.000000</td>\n",
       "      <td>1682.000000</td>\n",
       "      <td>1682.000000</td>\n",
       "      <td>1682.000000</td>\n",
       "      <td>1682.000000</td>\n",
       "      <td>1682.000000</td>\n",
       "      <td>1682.000000</td>\n",
       "      <td>1682.000000</td>\n",
       "    </tr>\n",
       "    <tr>\n",
       "      <th>mean</th>\n",
       "      <td>841.500000</td>\n",
       "      <td>NaN</td>\n",
       "      <td>0.001189</td>\n",
       "      <td>0.149227</td>\n",
       "      <td>0.080262</td>\n",
       "      <td>0.024970</td>\n",
       "      <td>0.072533</td>\n",
       "      <td>0.300238</td>\n",
       "      <td>0.064804</td>\n",
       "      <td>0.029727</td>\n",
       "      <td>...</td>\n",
       "      <td>0.01308</td>\n",
       "      <td>0.014269</td>\n",
       "      <td>0.054697</td>\n",
       "      <td>0.033294</td>\n",
       "      <td>0.036266</td>\n",
       "      <td>0.146849</td>\n",
       "      <td>0.060048</td>\n",
       "      <td>0.149227</td>\n",
       "      <td>0.042212</td>\n",
       "      <td>0.016052</td>\n",
       "    </tr>\n",
       "    <tr>\n",
       "      <th>std</th>\n",
       "      <td>485.695893</td>\n",
       "      <td>NaN</td>\n",
       "      <td>0.034473</td>\n",
       "      <td>0.356418</td>\n",
       "      <td>0.271779</td>\n",
       "      <td>0.156081</td>\n",
       "      <td>0.259445</td>\n",
       "      <td>0.458498</td>\n",
       "      <td>0.246253</td>\n",
       "      <td>0.169882</td>\n",
       "      <td>...</td>\n",
       "      <td>0.11365</td>\n",
       "      <td>0.118632</td>\n",
       "      <td>0.227455</td>\n",
       "      <td>0.179456</td>\n",
       "      <td>0.187008</td>\n",
       "      <td>0.354061</td>\n",
       "      <td>0.237646</td>\n",
       "      <td>0.356418</td>\n",
       "      <td>0.201131</td>\n",
       "      <td>0.125714</td>\n",
       "    </tr>\n",
       "    <tr>\n",
       "      <th>min</th>\n",
       "      <td>1.000000</td>\n",
       "      <td>NaN</td>\n",
       "      <td>0.000000</td>\n",
       "      <td>0.000000</td>\n",
       "      <td>0.000000</td>\n",
       "      <td>0.000000</td>\n",
       "      <td>0.000000</td>\n",
       "      <td>0.000000</td>\n",
       "      <td>0.000000</td>\n",
       "      <td>0.000000</td>\n",
       "      <td>...</td>\n",
       "      <td>0.00000</td>\n",
       "      <td>0.000000</td>\n",
       "      <td>0.000000</td>\n",
       "      <td>0.000000</td>\n",
       "      <td>0.000000</td>\n",
       "      <td>0.000000</td>\n",
       "      <td>0.000000</td>\n",
       "      <td>0.000000</td>\n",
       "      <td>0.000000</td>\n",
       "      <td>0.000000</td>\n",
       "    </tr>\n",
       "    <tr>\n",
       "      <th>25%</th>\n",
       "      <td>421.250000</td>\n",
       "      <td>NaN</td>\n",
       "      <td>0.000000</td>\n",
       "      <td>0.000000</td>\n",
       "      <td>0.000000</td>\n",
       "      <td>0.000000</td>\n",
       "      <td>0.000000</td>\n",
       "      <td>0.000000</td>\n",
       "      <td>0.000000</td>\n",
       "      <td>0.000000</td>\n",
       "      <td>...</td>\n",
       "      <td>0.00000</td>\n",
       "      <td>0.000000</td>\n",
       "      <td>0.000000</td>\n",
       "      <td>0.000000</td>\n",
       "      <td>0.000000</td>\n",
       "      <td>0.000000</td>\n",
       "      <td>0.000000</td>\n",
       "      <td>0.000000</td>\n",
       "      <td>0.000000</td>\n",
       "      <td>0.000000</td>\n",
       "    </tr>\n",
       "    <tr>\n",
       "      <th>50%</th>\n",
       "      <td>841.500000</td>\n",
       "      <td>NaN</td>\n",
       "      <td>0.000000</td>\n",
       "      <td>0.000000</td>\n",
       "      <td>0.000000</td>\n",
       "      <td>0.000000</td>\n",
       "      <td>0.000000</td>\n",
       "      <td>0.000000</td>\n",
       "      <td>0.000000</td>\n",
       "      <td>0.000000</td>\n",
       "      <td>...</td>\n",
       "      <td>0.00000</td>\n",
       "      <td>0.000000</td>\n",
       "      <td>0.000000</td>\n",
       "      <td>0.000000</td>\n",
       "      <td>0.000000</td>\n",
       "      <td>0.000000</td>\n",
       "      <td>0.000000</td>\n",
       "      <td>0.000000</td>\n",
       "      <td>0.000000</td>\n",
       "      <td>0.000000</td>\n",
       "    </tr>\n",
       "    <tr>\n",
       "      <th>75%</th>\n",
       "      <td>1261.750000</td>\n",
       "      <td>NaN</td>\n",
       "      <td>0.000000</td>\n",
       "      <td>0.000000</td>\n",
       "      <td>0.000000</td>\n",
       "      <td>0.000000</td>\n",
       "      <td>0.000000</td>\n",
       "      <td>1.000000</td>\n",
       "      <td>0.000000</td>\n",
       "      <td>0.000000</td>\n",
       "      <td>...</td>\n",
       "      <td>0.00000</td>\n",
       "      <td>0.000000</td>\n",
       "      <td>0.000000</td>\n",
       "      <td>0.000000</td>\n",
       "      <td>0.000000</td>\n",
       "      <td>0.000000</td>\n",
       "      <td>0.000000</td>\n",
       "      <td>0.000000</td>\n",
       "      <td>0.000000</td>\n",
       "      <td>0.000000</td>\n",
       "    </tr>\n",
       "    <tr>\n",
       "      <th>max</th>\n",
       "      <td>1682.000000</td>\n",
       "      <td>NaN</td>\n",
       "      <td>1.000000</td>\n",
       "      <td>1.000000</td>\n",
       "      <td>1.000000</td>\n",
       "      <td>1.000000</td>\n",
       "      <td>1.000000</td>\n",
       "      <td>1.000000</td>\n",
       "      <td>1.000000</td>\n",
       "      <td>1.000000</td>\n",
       "      <td>...</td>\n",
       "      <td>1.00000</td>\n",
       "      <td>1.000000</td>\n",
       "      <td>1.000000</td>\n",
       "      <td>1.000000</td>\n",
       "      <td>1.000000</td>\n",
       "      <td>1.000000</td>\n",
       "      <td>1.000000</td>\n",
       "      <td>1.000000</td>\n",
       "      <td>1.000000</td>\n",
       "      <td>1.000000</td>\n",
       "    </tr>\n",
       "  </tbody>\n",
       "</table>\n",
       "<p>8 rows × 21 columns</p>\n",
       "</div>"
      ],
      "text/plain": [
       "          movie_id  video_release_date      unknown       action    adventure  \\\n",
       "count  1682.000000                 0.0  1682.000000  1682.000000  1682.000000   \n",
       "mean    841.500000                 NaN     0.001189     0.149227     0.080262   \n",
       "std     485.695893                 NaN     0.034473     0.356418     0.271779   \n",
       "min       1.000000                 NaN     0.000000     0.000000     0.000000   \n",
       "25%     421.250000                 NaN     0.000000     0.000000     0.000000   \n",
       "50%     841.500000                 NaN     0.000000     0.000000     0.000000   \n",
       "75%    1261.750000                 NaN     0.000000     0.000000     0.000000   \n",
       "max    1682.000000                 NaN     1.000000     1.000000     1.000000   \n",
       "\n",
       "         animation    childrens       comedy        crime  documentary  ...  \\\n",
       "count  1682.000000  1682.000000  1682.000000  1682.000000  1682.000000  ...   \n",
       "mean      0.024970     0.072533     0.300238     0.064804     0.029727  ...   \n",
       "std       0.156081     0.259445     0.458498     0.246253     0.169882  ...   \n",
       "min       0.000000     0.000000     0.000000     0.000000     0.000000  ...   \n",
       "25%       0.000000     0.000000     0.000000     0.000000     0.000000  ...   \n",
       "50%       0.000000     0.000000     0.000000     0.000000     0.000000  ...   \n",
       "75%       0.000000     0.000000     1.000000     0.000000     0.000000  ...   \n",
       "max       1.000000     1.000000     1.000000     1.000000     1.000000  ...   \n",
       "\n",
       "          fantasy    film_noir       horror      musical      mystery  \\\n",
       "count  1682.00000  1682.000000  1682.000000  1682.000000  1682.000000   \n",
       "mean      0.01308     0.014269     0.054697     0.033294     0.036266   \n",
       "std       0.11365     0.118632     0.227455     0.179456     0.187008   \n",
       "min       0.00000     0.000000     0.000000     0.000000     0.000000   \n",
       "25%       0.00000     0.000000     0.000000     0.000000     0.000000   \n",
       "50%       0.00000     0.000000     0.000000     0.000000     0.000000   \n",
       "75%       0.00000     0.000000     0.000000     0.000000     0.000000   \n",
       "max       1.00000     1.000000     1.000000     1.000000     1.000000   \n",
       "\n",
       "           romance       sci_fi     thriller          war      western  \n",
       "count  1682.000000  1682.000000  1682.000000  1682.000000  1682.000000  \n",
       "mean      0.146849     0.060048     0.149227     0.042212     0.016052  \n",
       "std       0.354061     0.237646     0.356418     0.201131     0.125714  \n",
       "min       0.000000     0.000000     0.000000     0.000000     0.000000  \n",
       "25%       0.000000     0.000000     0.000000     0.000000     0.000000  \n",
       "50%       0.000000     0.000000     0.000000     0.000000     0.000000  \n",
       "75%       0.000000     0.000000     0.000000     0.000000     0.000000  \n",
       "max       1.000000     1.000000     1.000000     1.000000     1.000000  \n",
       "\n",
       "[8 rows x 21 columns]"
      ]
     },
     "execution_count": 6,
     "metadata": {},
     "output_type": "execute_result"
    }
   ],
   "source": [
    "movie_df.describe()"
   ]
  },
  {
   "cell_type": "markdown",
   "id": "9775afbd",
   "metadata": {},
   "source": [
    "## MOVIE BY GENRE\n",
    "Tổng số phim theo thể loại"
   ]
  },
  {
   "cell_type": "code",
   "execution_count": 7,
   "id": "6ac3738d",
   "metadata": {},
   "outputs": [],
   "source": [
    "generes = movie_cols[5:]"
   ]
  },
  {
   "cell_type": "markdown",
   "id": "06ecb063",
   "metadata": {},
   "source": [
    "Thể loại phổ biến của các bộ phim"
   ]
  },
  {
   "cell_type": "code",
   "execution_count": 8,
   "id": "6d3bddfa",
   "metadata": {},
   "outputs": [
    {
     "data": {
      "image/png": "[encoded data removed]",
      "text/plain": [
       "<Figure size 864x504 with 1 Axes>"
      ]
     },
     "metadata": {
      "needs_background": "light"
     },
     "output_type": "display_data"
    }
   ],
   "source": [
    "plt.figure(figsize=(12, 7))\n",
    "genres_count = movie_df.loc[:, generes].sum().sort_values()\n",
    "sns.barplot(x=genres_count.index, y=genres_count.values)\n",
    "plt.xticks(rotation=60);"
   ]
  },
  {
   "cell_type": "markdown",
   "id": "af774552",
   "metadata": {},
   "source": [
    "## MOVIE BY DATE\n",
    "tổng số bộ phim xuất bản mỗi năm"
   ]
  },
  {
   "cell_type": "code",
   "execution_count": 9,
   "id": "5a5926b0",
   "metadata": {},
   "outputs": [
    {
     "data": {
      "text/plain": [
       "Text(0.5, 0, 'year')"
      ]
     },
     "execution_count": 9,
     "metadata": {},
     "output_type": "execute_result"
    },
    {
     "data": {
      "image/png": "[encoded data removed]",
      "text/plain": [
       "<Figure size 432x288 with 1 Axes>"
      ]
     },
     "metadata": {
      "needs_background": "light"
     },
     "output_type": "display_data"
    }
   ],
   "source": [
    "yearly_count = movie_df.groupby(movie_df.release_date.str.split('-').str[-1]).size()\n",
    "sns.lineplot(x = np.linspace(1900, 2000, len(yearly_count)), y = yearly_count.values)\n",
    "plt.xlabel('year')"
   ]
  },
  {
   "cell_type": "markdown",
   "id": "6fe21ed3",
   "metadata": {},
   "source": [
    "## Tổng số phim ra mắt theo tháng"
   ]
  },
  {
   "cell_type": "code",
   "execution_count": 10,
   "id": "05ee7feb",
   "metadata": {},
   "outputs": [
    {
     "data": {
      "text/plain": [
       "<AxesSubplot:>"
      ]
     },
     "execution_count": 10,
     "metadata": {},
     "output_type": "execute_result"
    },
    {
     "data": {
      "image/png": "[encoded data removed]",
      "text/plain": [
       "<Figure size 432x288 with 1 Axes>"
      ]
     },
     "metadata": {
      "needs_background": "light"
     },
     "output_type": "display_data"
    }
   ],
   "source": [
    "movie_df.release_date.str.split('-').str[-2].hist()"
   ]
  },
  {
   "cell_type": "markdown",
   "id": "b6580285",
   "metadata": {},
   "source": [
    "movie daily released"
   ]
  },
  {
   "cell_type": "markdown",
   "id": "af0a0904",
   "metadata": {},
   "source": [
    "# RATING\n",
    "## Đánh giá của người dùng"
   ]
  },
  {
   "cell_type": "code",
   "execution_count": 11,
   "id": "cae4dc2d",
   "metadata": {},
   "outputs": [
    {
     "data": {
      "text/html": [
       "<div>\n",
       "<style scoped>\n",
       "    .dataframe tbody tr th:only-of-type {\n",
       "        vertical-align: middle;\n",
       "    }\n",
       "\n",
       "    .dataframe tbody tr th {\n",
       "        vertical-align: top;\n",
       "    }\n",
       "\n",
       "    .dataframe thead th {\n",
       "        text-align: right;\n",
       "    }\n",
       "</style>\n",
       "<table border=\"1\" class=\"dataframe\">\n",
       "  <thead>\n",
       "    <tr style=\"text-align: right;\">\n",
       "      <th></th>\n",
       "      <th>user_id</th>\n",
       "      <th>movie_id</th>\n",
       "      <th>rating</th>\n",
       "      <th>timestamp</th>\n",
       "    </tr>\n",
       "  </thead>\n",
       "  <tbody>\n",
       "    <tr>\n",
       "      <th>0</th>\n",
       "      <td>196</td>\n",
       "      <td>242</td>\n",
       "      <td>3</td>\n",
       "      <td>881250949</td>\n",
       "    </tr>\n",
       "    <tr>\n",
       "      <th>1</th>\n",
       "      <td>186</td>\n",
       "      <td>302</td>\n",
       "      <td>3</td>\n",
       "      <td>891717742</td>\n",
       "    </tr>\n",
       "    <tr>\n",
       "      <th>2</th>\n",
       "      <td>22</td>\n",
       "      <td>377</td>\n",
       "      <td>1</td>\n",
       "      <td>878887116</td>\n",
       "    </tr>\n",
       "    <tr>\n",
       "      <th>3</th>\n",
       "      <td>244</td>\n",
       "      <td>51</td>\n",
       "      <td>2</td>\n",
       "      <td>880606923</td>\n",
       "    </tr>\n",
       "    <tr>\n",
       "      <th>4</th>\n",
       "      <td>166</td>\n",
       "      <td>346</td>\n",
       "      <td>1</td>\n",
       "      <td>886397596</td>\n",
       "    </tr>\n",
       "    <tr>\n",
       "      <th>5</th>\n",
       "      <td>298</td>\n",
       "      <td>474</td>\n",
       "      <td>4</td>\n",
       "      <td>884182806</td>\n",
       "    </tr>\n",
       "    <tr>\n",
       "      <th>6</th>\n",
       "      <td>115</td>\n",
       "      <td>265</td>\n",
       "      <td>2</td>\n",
       "      <td>881171488</td>\n",
       "    </tr>\n",
       "    <tr>\n",
       "      <th>7</th>\n",
       "      <td>253</td>\n",
       "      <td>465</td>\n",
       "      <td>5</td>\n",
       "      <td>891628467</td>\n",
       "    </tr>\n",
       "    <tr>\n",
       "      <th>8</th>\n",
       "      <td>305</td>\n",
       "      <td>451</td>\n",
       "      <td>3</td>\n",
       "      <td>886324817</td>\n",
       "    </tr>\n",
       "    <tr>\n",
       "      <th>9</th>\n",
       "      <td>6</td>\n",
       "      <td>86</td>\n",
       "      <td>3</td>\n",
       "      <td>883603013</td>\n",
       "    </tr>\n",
       "  </tbody>\n",
       "</table>\n",
       "</div>"
      ],
      "text/plain": [
       "   user_id  movie_id  rating  timestamp\n",
       "0      196       242       3  881250949\n",
       "1      186       302       3  891717742\n",
       "2       22       377       1  878887116\n",
       "3      244        51       2  880606923\n",
       "4      166       346       1  886397596\n",
       "5      298       474       4  884182806\n",
       "6      115       265       2  881171488\n",
       "7      253       465       5  891628467\n",
       "8      305       451       3  886324817\n",
       "9        6        86       3  883603013"
      ]
     },
     "execution_count": 11,
     "metadata": {},
     "output_type": "execute_result"
    }
   ],
   "source": [
    "rating_df.head(10)"
   ]
  },
  {
   "cell_type": "code",
   "execution_count": 12,
   "id": "a68773ff",
   "metadata": {},
   "outputs": [
    {
     "name": "stdout",
     "output_type": "stream",
     "text": [
      "<class 'pandas.core.frame.DataFrame'>\n",
      "RangeIndex: 100000 entries, 0 to 99999\n",
      "Data columns (total 4 columns):\n",
      " #   Column     Non-Null Count   Dtype \n",
      "---  ------     --------------   ----- \n",
      " 0   user_id    100000 non-null  int64 \n",
      " 1   movie_id   100000 non-null  int64 \n",
      " 2   rating     100000 non-null  int64 \n",
      " 3   timestamp  100000 non-null  object\n",
      "dtypes: int64(3), object(1)\n",
      "memory usage: 3.1+ MB\n"
     ]
    }
   ],
   "source": [
    "rating_df.info()"
   ]
  },
  {
   "cell_type": "code",
   "execution_count": 13,
   "id": "c9d6de48",
   "metadata": {},
   "outputs": [
    {
     "data": {
      "text/html": [
       "<div>\n",
       "<style scoped>\n",
       "    .dataframe tbody tr th:only-of-type {\n",
       "        vertical-align: middle;\n",
       "    }\n",
       "\n",
       "    .dataframe tbody tr th {\n",
       "        vertical-align: top;\n",
       "    }\n",
       "\n",
       "    .dataframe thead th {\n",
       "        text-align: right;\n",
       "    }\n",
       "</style>\n",
       "<table border=\"1\" class=\"dataframe\">\n",
       "  <thead>\n",
       "    <tr style=\"text-align: right;\">\n",
       "      <th></th>\n",
       "      <th>user_id</th>\n",
       "      <th>movie_id</th>\n",
       "      <th>rating</th>\n",
       "    </tr>\n",
       "  </thead>\n",
       "  <tbody>\n",
       "    <tr>\n",
       "      <th>count</th>\n",
       "      <td>100000.00000</td>\n",
       "      <td>100000.000000</td>\n",
       "      <td>100000.000000</td>\n",
       "    </tr>\n",
       "    <tr>\n",
       "      <th>mean</th>\n",
       "      <td>462.48475</td>\n",
       "      <td>425.530130</td>\n",
       "      <td>3.529860</td>\n",
       "    </tr>\n",
       "    <tr>\n",
       "      <th>std</th>\n",
       "      <td>266.61442</td>\n",
       "      <td>330.798356</td>\n",
       "      <td>1.125674</td>\n",
       "    </tr>\n",
       "    <tr>\n",
       "      <th>min</th>\n",
       "      <td>1.00000</td>\n",
       "      <td>1.000000</td>\n",
       "      <td>1.000000</td>\n",
       "    </tr>\n",
       "    <tr>\n",
       "      <th>25%</th>\n",
       "      <td>254.00000</td>\n",
       "      <td>175.000000</td>\n",
       "      <td>3.000000</td>\n",
       "    </tr>\n",
       "    <tr>\n",
       "      <th>50%</th>\n",
       "      <td>447.00000</td>\n",
       "      <td>322.000000</td>\n",
       "      <td>4.000000</td>\n",
       "    </tr>\n",
       "    <tr>\n",
       "      <th>75%</th>\n",
       "      <td>682.00000</td>\n",
       "      <td>631.000000</td>\n",
       "      <td>4.000000</td>\n",
       "    </tr>\n",
       "    <tr>\n",
       "      <th>max</th>\n",
       "      <td>943.00000</td>\n",
       "      <td>1682.000000</td>\n",
       "      <td>5.000000</td>\n",
       "    </tr>\n",
       "  </tbody>\n",
       "</table>\n",
       "</div>"
      ],
      "text/plain": [
       "            user_id       movie_id         rating\n",
       "count  100000.00000  100000.000000  100000.000000\n",
       "mean      462.48475     425.530130       3.529860\n",
       "std       266.61442     330.798356       1.125674\n",
       "min         1.00000       1.000000       1.000000\n",
       "25%       254.00000     175.000000       3.000000\n",
       "50%       447.00000     322.000000       4.000000\n",
       "75%       682.00000     631.000000       4.000000\n",
       "max       943.00000    1682.000000       5.000000"
      ]
     },
     "execution_count": 13,
     "metadata": {},
     "output_type": "execute_result"
    }
   ],
   "source": [
    "rating_df.describe()"
   ]
  },
  {
   "cell_type": "markdown",
   "id": "6c226aee",
   "metadata": {},
   "source": [
    "## Tổng số rating theo thang 5"
   ]
  },
  {
   "cell_type": "code",
   "execution_count": 14,
   "id": "d9aebe18",
   "metadata": {},
   "outputs": [
    {
     "data": {
      "text/plain": [
       "Text(0.5, 1.0, 'rating count')"
      ]
     },
     "execution_count": 14,
     "metadata": {},
     "output_type": "execute_result"
    },
    {
     "data": {
      "image/png": "[encoded data removed]",
      "text/plain": [
       "<Figure size 432x288 with 1 Axes>"
      ]
     },
     "metadata": {
      "needs_background": "light"
     },
     "output_type": "display_data"
    }
   ],
   "source": [
    "rate = rating_df.groupby('rating').size().sort_values(ascending=False)\n",
    "sns.barplot(x=rate.index, y=rate.values)\n",
    "plt.title('rating count')"
   ]
  },
  {
   "cell_type": "markdown",
   "id": "68d20dcb",
   "metadata": {},
   "source": [
    "# USER"
   ]
  },
  {
   "cell_type": "markdown",
   "id": "80988184",
   "metadata": {},
   "source": [
    "## Thông tin user giới tính, độ tuổi, nghề nghiệp, ..."
   ]
  },
  {
   "cell_type": "code",
   "execution_count": 15,
   "id": "01ea4491",
   "metadata": {
    "scrolled": true
   },
   "outputs": [
    {
     "data": {
      "text/html": [
       "<div>\n",
       "<style scoped>\n",
       "    .dataframe tbody tr th:only-of-type {\n",
       "        vertical-align: middle;\n",
       "    }\n",
       "\n",
       "    .dataframe tbody tr th {\n",
       "        vertical-align: top;\n",
       "    }\n",
       "\n",
       "    .dataframe thead th {\n",
       "        text-align: right;\n",
       "    }\n",
       "</style>\n",
       "<table border=\"1\" class=\"dataframe\">\n",
       "  <thead>\n",
       "    <tr style=\"text-align: right;\">\n",
       "      <th></th>\n",
       "      <th>user_id</th>\n",
       "      <th>age</th>\n",
       "      <th>gender</th>\n",
       "      <th>occupation</th>\n",
       "      <th>zip_code</th>\n",
       "    </tr>\n",
       "  </thead>\n",
       "  <tbody>\n",
       "    <tr>\n",
       "      <th>0</th>\n",
       "      <td>1</td>\n",
       "      <td>24</td>\n",
       "      <td>M</td>\n",
       "      <td>technician</td>\n",
       "      <td>85711</td>\n",
       "    </tr>\n",
       "    <tr>\n",
       "      <th>1</th>\n",
       "      <td>2</td>\n",
       "      <td>53</td>\n",
       "      <td>F</td>\n",
       "      <td>other</td>\n",
       "      <td>94043</td>\n",
       "    </tr>\n",
       "    <tr>\n",
       "      <th>2</th>\n",
       "      <td>3</td>\n",
       "      <td>23</td>\n",
       "      <td>M</td>\n",
       "      <td>writer</td>\n",
       "      <td>32067</td>\n",
       "    </tr>\n",
       "    <tr>\n",
       "      <th>3</th>\n",
       "      <td>4</td>\n",
       "      <td>24</td>\n",
       "      <td>M</td>\n",
       "      <td>technician</td>\n",
       "      <td>43537</td>\n",
       "    </tr>\n",
       "    <tr>\n",
       "      <th>4</th>\n",
       "      <td>5</td>\n",
       "      <td>33</td>\n",
       "      <td>F</td>\n",
       "      <td>other</td>\n",
       "      <td>15213</td>\n",
       "    </tr>\n",
       "    <tr>\n",
       "      <th>5</th>\n",
       "      <td>6</td>\n",
       "      <td>42</td>\n",
       "      <td>M</td>\n",
       "      <td>executive</td>\n",
       "      <td>98101</td>\n",
       "    </tr>\n",
       "    <tr>\n",
       "      <th>6</th>\n",
       "      <td>7</td>\n",
       "      <td>57</td>\n",
       "      <td>M</td>\n",
       "      <td>administrator</td>\n",
       "      <td>91344</td>\n",
       "    </tr>\n",
       "    <tr>\n",
       "      <th>7</th>\n",
       "      <td>8</td>\n",
       "      <td>36</td>\n",
       "      <td>M</td>\n",
       "      <td>administrator</td>\n",
       "      <td>05201</td>\n",
       "    </tr>\n",
       "    <tr>\n",
       "      <th>8</th>\n",
       "      <td>9</td>\n",
       "      <td>29</td>\n",
       "      <td>M</td>\n",
       "      <td>student</td>\n",
       "      <td>01002</td>\n",
       "    </tr>\n",
       "    <tr>\n",
       "      <th>9</th>\n",
       "      <td>10</td>\n",
       "      <td>53</td>\n",
       "      <td>M</td>\n",
       "      <td>lawyer</td>\n",
       "      <td>90703</td>\n",
       "    </tr>\n",
       "  </tbody>\n",
       "</table>\n",
       "</div>"
      ],
      "text/plain": [
       "   user_id  age gender     occupation zip_code\n",
       "0        1   24      M     technician    85711\n",
       "1        2   53      F          other    94043\n",
       "2        3   23      M         writer    32067\n",
       "3        4   24      M     technician    43537\n",
       "4        5   33      F          other    15213\n",
       "5        6   42      M      executive    98101\n",
       "6        7   57      M  administrator    91344\n",
       "7        8   36      M  administrator    05201\n",
       "8        9   29      M        student    01002\n",
       "9       10   53      M         lawyer    90703"
      ]
     },
     "execution_count": 15,
     "metadata": {},
     "output_type": "execute_result"
    }
   ],
   "source": [
    "user_df.head(10)"
   ]
  },
  {
   "cell_type": "markdown",
   "id": "ef37e7ca",
   "metadata": {},
   "source": [
    "## Mô tả các bảng dữ liệu, thống kê các giá trị"
   ]
  },
  {
   "cell_type": "code",
   "execution_count": 16,
   "id": "d0451a9c",
   "metadata": {},
   "outputs": [
    {
     "name": "stdout",
     "output_type": "stream",
     "text": [
      "<class 'pandas.core.frame.DataFrame'>\n",
      "RangeIndex: 943 entries, 0 to 942\n",
      "Data columns (total 5 columns):\n",
      " #   Column      Non-Null Count  Dtype \n",
      "---  ------      --------------  ----- \n",
      " 0   user_id     943 non-null    int64 \n",
      " 1   age         943 non-null    int64 \n",
      " 2   gender      943 non-null    object\n",
      " 3   occupation  943 non-null    object\n",
      " 4   zip_code    943 non-null    object\n",
      "dtypes: int64(2), object(3)\n",
      "memory usage: 37.0+ KB\n"
     ]
    }
   ],
   "source": [
    "user_df.info()"
   ]
  },
  {
   "cell_type": "code",
   "execution_count": 17,
   "id": "0751be8f",
   "metadata": {
    "scrolled": true
   },
   "outputs": [
    {
     "data": {
      "text/html": [
       "<div>\n",
       "<style scoped>\n",
       "    .dataframe tbody tr th:only-of-type {\n",
       "        vertical-align: middle;\n",
       "    }\n",
       "\n",
       "    .dataframe tbody tr th {\n",
       "        vertical-align: top;\n",
       "    }\n",
       "\n",
       "    .dataframe thead th {\n",
       "        text-align: right;\n",
       "    }\n",
       "</style>\n",
       "<table border=\"1\" class=\"dataframe\">\n",
       "  <thead>\n",
       "    <tr style=\"text-align: right;\">\n",
       "      <th></th>\n",
       "      <th>user_id</th>\n",
       "      <th>age</th>\n",
       "    </tr>\n",
       "  </thead>\n",
       "  <tbody>\n",
       "    <tr>\n",
       "      <th>count</th>\n",
       "      <td>943.000000</td>\n",
       "      <td>943.000000</td>\n",
       "    </tr>\n",
       "    <tr>\n",
       "      <th>mean</th>\n",
       "      <td>472.000000</td>\n",
       "      <td>34.051962</td>\n",
       "    </tr>\n",
       "    <tr>\n",
       "      <th>std</th>\n",
       "      <td>272.364951</td>\n",
       "      <td>12.192740</td>\n",
       "    </tr>\n",
       "    <tr>\n",
       "      <th>min</th>\n",
       "      <td>1.000000</td>\n",
       "      <td>7.000000</td>\n",
       "    </tr>\n",
       "    <tr>\n",
       "      <th>25%</th>\n",
       "      <td>236.500000</td>\n",
       "      <td>25.000000</td>\n",
       "    </tr>\n",
       "    <tr>\n",
       "      <th>50%</th>\n",
       "      <td>472.000000</td>\n",
       "      <td>31.000000</td>\n",
       "    </tr>\n",
       "    <tr>\n",
       "      <th>75%</th>\n",
       "      <td>707.500000</td>\n",
       "      <td>43.000000</td>\n",
       "    </tr>\n",
       "    <tr>\n",
       "      <th>max</th>\n",
       "      <td>943.000000</td>\n",
       "      <td>73.000000</td>\n",
       "    </tr>\n",
       "  </tbody>\n",
       "</table>\n",
       "</div>"
      ],
      "text/plain": [
       "          user_id         age\n",
       "count  943.000000  943.000000\n",
       "mean   472.000000   34.051962\n",
       "std    272.364951   12.192740\n",
       "min      1.000000    7.000000\n",
       "25%    236.500000   25.000000\n",
       "50%    472.000000   31.000000\n",
       "75%    707.500000   43.000000\n",
       "max    943.000000   73.000000"
      ]
     },
     "execution_count": 17,
     "metadata": {},
     "output_type": "execute_result"
    }
   ],
   "source": [
    "user_df.describe()"
   ]
  },
  {
   "cell_type": "markdown",
   "id": "04e540f0",
   "metadata": {},
   "source": [
    "## Thống kê độ tuổi mà con người xem nhiều phim"
   ]
  },
  {
   "cell_type": "code",
   "execution_count": 18,
   "id": "45d648bf",
   "metadata": {
    "scrolled": true
   },
   "outputs": [
    {
     "data": {
      "text/plain": [
       "<Figure size 1440x504 with 0 Axes>"
      ]
     },
     "execution_count": 18,
     "metadata": {},
     "output_type": "execute_result"
    },
    {
     "data": {
      "image/png": "[encoded data removed]",
      "text/plain": [
       "<Figure size 432x288 with 1 Axes>"
      ]
     },
     "metadata": {
      "needs_background": "light"
     },
     "output_type": "display_data"
    },
    {
     "data": {
      "text/plain": [
       "<Figure size 1440x504 with 0 Axes>"
      ]
     },
     "metadata": {},
     "output_type": "display_data"
    }
   ],
   "source": [
    "ag = user_df.groupby('age').size().sort_values(ascending=True)\n",
    "sns.lineplot(x=ag.index, y=ag.values)\n",
    "plt.figure(figsize=(20,7))"
   ]
  },
  {
   "cell_type": "markdown",
   "id": "bea97a2f",
   "metadata": {},
   "source": [
    "## Nghề nghiệp thường hay xem phim"
   ]
  },
  {
   "cell_type": "code",
   "execution_count": 19,
   "id": "deda4534",
   "metadata": {},
   "outputs": [
    {
     "data": {
      "text/plain": [
       "<Figure size 1080x504 with 0 Axes>"
      ]
     },
     "execution_count": 19,
     "metadata": {},
     "output_type": "execute_result"
    },
    {
     "data": {
      "image/png": "[encoded data removed]",
      "text/plain": [
       "<Figure size 432x288 with 1 Axes>"
      ]
     },
     "metadata": {
      "needs_background": "light"
     },
     "output_type": "display_data"
    },
    {
     "data": {
      "text/plain": [
       "<Figure size 1080x504 with 0 Axes>"
      ]
     },
     "metadata": {},
     "output_type": "display_data"
    }
   ],
   "source": [
    "occ = user_df.groupby('occupation').size().sort_values(ascending=False)\n",
    "sns.barplot(x=occ.index,y=occ.values)\n",
    "plt.xticks(rotation=60)\n",
    "plt.figure(figsize=(15, 7))"
   ]
  },
  {
   "cell_type": "markdown",
   "id": "5a10cada",
   "metadata": {},
   "source": [
    "## Số người xem phim là nam giới / nữ giới"
   ]
  },
  {
   "cell_type": "code",
   "execution_count": 27,
   "id": "e2aeb324",
   "metadata": {},
   "outputs": [
    {
     "data": {
      "text/plain": [
       "Text(0.5, 1.0, 'gender watching movie')"
      ]
     },
     "execution_count": 27,
     "metadata": {},
     "output_type": "execute_result"
    },
    {
     "data": {
      "image/png": "[encoded data removed]",
      "text/plain": [
       "<Figure size 720x504 with 1 Axes>"
      ]
     },
     "metadata": {
      "needs_background": "light"
     },
     "output_type": "display_data"
    }
   ],
   "source": [
    "user_df.gender.hist(figsize=(10,7))\n",
    "plt.title('gender watching movie')"
   ]
  },
  {
   "cell_type": "markdown",
   "id": "e2e4c34b",
   "metadata": {},
   "source": [
    "## Tổng hợp join bảng để đánh giá theo user - movie,...."
   ]
  },
  {
   "cell_type": "code",
   "execution_count": 21,
   "id": "c533a773",
   "metadata": {},
   "outputs": [],
   "source": [
    "rating_user_df = rating_df.join(other=user_df, how='inner', on='user_id', lsuffix='_R')\n",
    "rating_user_movie_df = rating_user_df.join(other=movie_df, how='inner', on='movie_id', rsuffix='_M')\n",
    "rating_movie_df = rating_df.join(other=movie_df, how='inner', on='movie_id', rsuffix='_M')"
   ]
  },
  {
   "cell_type": "markdown",
   "id": "adfd3f2d",
   "metadata": {},
   "source": [
    "movie watched by gender"
   ]
  },
  {
   "cell_type": "code",
   "execution_count": 22,
   "id": "7e121858",
   "metadata": {
    "scrolled": true
   },
   "outputs": [
    {
     "name": "stderr",
     "output_type": "stream",
     "text": [
      "C:\\Users\\Admin\\AppData\\Local\\Temp\\ipykernel_10784\\2375247203.py:1: FutureWarning: The default value of numeric_only in DataFrameGroupBy.sum is deprecated. In a future version, numeric_only will default to False. Either specify numeric_only or select only columns which should be valid for the function.\n",
      "  gender_movie = rating_user_movie_df.groupby('gender').sum().loc[:,generes]\n"
     ]
    }
   ],
   "source": [
    "gender_movie = rating_user_movie_df.groupby('gender').sum().loc[:,generes]\n",
    "gender_movie = gender_movie.T"
   ]
  },
  {
   "cell_type": "markdown",
   "id": "96b45e42",
   "metadata": {},
   "source": [
    "biểu đồ phân hóa giới tính nào thích xem thể loại phim nào,\n",
    "loại phim mà nam giới thích và ngược lại"
   ]
  },
  {
   "cell_type": "code",
   "execution_count": 23,
   "id": "9fe657a3",
   "metadata": {
    "scrolled": true
   },
   "outputs": [
    {
     "data": {
      "image/png": "[encoded data removed]",
      "text/plain": [
       "<Figure size 432x288 with 1 Axes>"
      ]
     },
     "metadata": {
      "needs_background": "light"
     },
     "output_type": "display_data"
    }
   ],
   "source": [
    "m_df = gender_movie.M.sort_values(ascending=False)\n",
    "f_df = gender_movie.F.sort_values(ascending=False)\n",
    "\n",
    "plt.bar(m_df.index, m_df.values)\n",
    "plt.bar(f_df.index, f_df.values)\n",
    "plt.xticks(rotation=60);"
   ]
  },
  {
   "cell_type": "markdown",
   "id": "a310573e",
   "metadata": {},
   "source": [
    "## Những bộ phim được nhiều đánh giá"
   ]
  },
  {
   "cell_type": "code",
   "execution_count": 34,
   "id": "d88c0afd",
   "metadata": {},
   "outputs": [],
   "source": [
    "def draw_horizontal_movie_bar(movie_titles, ratings_count, title=''):\n",
    "    plt.figure(figsize=(12, 7))\n",
    "    sns.barplot(y=movie_titles, x=ratings_count, orient='h')\n",
    "    plt.title(title)\n",
    "    plt.ylabel('Movies')\n",
    "    plt.xlabel('Count')\n",
    "    plt.show();"
   ]
  },
  {
   "cell_type": "code",
   "execution_count": 35,
   "id": "b3e076de",
   "metadata": {},
   "outputs": [
    {
     "name": "stderr",
     "output_type": "stream",
     "text": [
      "C:\\Users\\Admin\\AppData\\Local\\Temp\\ipykernel_10784\\1635601224.py:1: FutureWarning: The behavior of `series[i:j]` with an integer-dtype index is deprecated. In a future version, this will be treated as *label-based* indexing, consistent with e.g. `series[i]` lookups. To retain the old behavior, use `series.iloc[i:j]`. To get the future behavior, use `series.loc[i:j]`.\n",
      "  top_rated_movie = rating_movie_df.groupby(['movie_id']).size().sort_values(ascending=False)[:10]\n"
     ]
    },
    {
     "data": {
      "image/png": "[encoded data removed]",
      "text/plain": [
       "<Figure size 864x504 with 1 Axes>"
      ]
     },
     "metadata": {
      "needs_background": "light"
     },
     "output_type": "display_data"
    }
   ],
   "source": [
    "top_rated_movie = rating_movie_df.groupby(['movie_id']).size().sort_values(ascending=False)[:10]\n",
    "top_rated_titles = movie_df.iloc[top_rated_movie.index].movie_title\n",
    "\n",
    "draw_horizontal_movie_bar(top_rated_titles.values, top_rated_movie.values, 'Top rated movie')"
   ]
  },
  {
   "cell_type": "markdown",
   "id": "32a7616d",
   "metadata": {},
   "source": [
    "## Những bộ phim được yêu thích nhất"
   ]
  },
  {
   "cell_type": "code",
   "execution_count": 33,
   "id": "34a1c45a",
   "metadata": {},
   "outputs": [
    {
     "name": "stderr",
     "output_type": "stream",
     "text": [
      "C:\\Users\\Admin\\AppData\\Local\\Temp\\ipykernel_10784\\2945248389.py:1: FutureWarning: The default value of numeric_only in DataFrameGroupBy.sum is deprecated. In a future version, numeric_only will default to False. Either specify numeric_only or select only columns which should be valid for the function.\n",
      "  top_most_loved_movies = rating_movie_df.groupby('movie_id').sum().rating.sort_values(ascending=False)[:10]\n",
      "C:\\Users\\Admin\\AppData\\Local\\Temp\\ipykernel_10784\\2945248389.py:1: FutureWarning: The behavior of `series[i:j]` with an integer-dtype index is deprecated. In a future version, this will be treated as *label-based* indexing, consistent with e.g. `series[i]` lookups. To retain the old behavior, use `series.iloc[i:j]`. To get the future behavior, use `series.loc[i:j]`.\n",
      "  top_most_loved_movies = rating_movie_df.groupby('movie_id').sum().rating.sort_values(ascending=False)[:10]\n"
     ]
    },
    {
     "data": {
      "image/png": "[encoded data removed]",
      "text/plain": [
       "<Figure size 864x504 with 1 Axes>"
      ]
     },
     "metadata": {
      "needs_background": "light"
     },
     "output_type": "display_data"
    }
   ],
   "source": [
    "top_most_loved_movies = rating_movie_df.groupby('movie_id').sum().rating.sort_values(ascending=False)[:10]\n",
    "top_most_loved_movie_titles = movie_df.iloc[top_most_loved_movies.index].movie_title\n",
    "\n",
    "draw_horizontal_movie_bar(top_most_loved_movie_titles.values, \n",
    "                          top_most_loved_movies.values, \n",
    "                          'Top 10 most loved movies');"
   ]
  }
 ],
 "metadata": {
  "kernelspec": {
   "display_name": "Python 3 (ipykernel)",
   "language": "python",
   "name": "python3"
  },
  "language_info": {
   "codemirror_mode": {
    "name": "ipython",
    "version": 3
   },
   "file_extension": ".py",
   "mimetype": "text/x-python",
   "name": "python",
   "nbconvert_exporter": "python",
   "pygments_lexer": "ipython3",
   "version": "3.10.0"
  }
 },
 "nbformat": 4,
 "nbformat_minor": 5
}
